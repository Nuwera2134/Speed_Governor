{
 "cells": [
  {
   "cell_type": "code",
   "execution_count": 16,
   "id": "aa6ae7cf",
   "metadata": {
    "id": "aa6ae7cf"
   },
   "outputs": [],
   "source": [
    "import pandas as pd\n",
    "import numpy as np\n",
    "import pickle\n",
    "import matplotlib.pyplot as plt\n",
    "%matplotlib inline\n",
    "from sklearn.model_selection import train_test_split\n",
    "from sklearn.metrics import accuracy_score\n",
    "from sklearn.linear_model import LogisticRegression\n",
    "from sklearn.preprocessing import StandardScaler\n",
    "from sklearn.preprocessing import LabelEncoder\n",
    "\n",
    "\n",
    "\n"
   ]
  },
  {
   "cell_type": "code",
   "execution_count": 3,
   "id": "3af290e8",
   "metadata": {
    "colab": {
     "base_uri": "https://localhost:8080/",
     "height": 659
    },
    "id": "3af290e8",
    "outputId": "2821dfca-5652-4f42-e500-ab4a457c72b8"
   },
   "outputs": [
    {
     "data": {
      "text/html": [
       "<div>\n",
       "<style scoped>\n",
       "    .dataframe tbody tr th:only-of-type {\n",
       "        vertical-align: middle;\n",
       "    }\n",
       "\n",
       "    .dataframe tbody tr th {\n",
       "        vertical-align: top;\n",
       "    }\n",
       "\n",
       "    .dataframe thead th {\n",
       "        text-align: right;\n",
       "    }\n",
       "</style>\n",
       "<table border=\"1\" class=\"dataframe\">\n",
       "  <thead>\n",
       "    <tr style=\"text-align: right;\">\n",
       "      <th></th>\n",
       "      <th>PLATE NO</th>\n",
       "      <th>TIME SINCE START (ms)</th>\n",
       "      <th>DATE</th>\n",
       "      <th>AV SPEED(8H-9H)(km/h)</th>\n",
       "      <th>AV SPEED(11H-12H)(km/h)</th>\n",
       "      <th>AV SPEED(14H-15H)(km/h)</th>\n",
       "      <th>AV SPEED(18H-19H)(km/h)</th>\n",
       "      <th>Feedback</th>\n",
       "      <th>Feedback value</th>\n",
       "      <th>GPS LATITUDE (degrees)</th>\n",
       "      <th>GPS LONGITUDE (degrees)</th>\n",
       "    </tr>\n",
       "  </thead>\n",
       "  <tbody>\n",
       "    <tr>\n",
       "      <th>0</th>\n",
       "      <td>RAA 002</td>\n",
       "      <td>4227</td>\n",
       "      <td>2019-09-07</td>\n",
       "      <td>42</td>\n",
       "      <td>54</td>\n",
       "      <td>59</td>\n",
       "      <td>54</td>\n",
       "      <td>Not tempered</td>\n",
       "      <td>0</td>\n",
       "      <td>52.402565</td>\n",
       "      <td>-1.503471</td>\n",
       "    </tr>\n",
       "    <tr>\n",
       "      <th>1</th>\n",
       "      <td>RAA 003</td>\n",
       "      <td>4327</td>\n",
       "      <td>2019-09-08</td>\n",
       "      <td>57</td>\n",
       "      <td>36</td>\n",
       "      <td>67</td>\n",
       "      <td>61</td>\n",
       "      <td>Tempered</td>\n",
       "      <td>1</td>\n",
       "      <td>52.402565</td>\n",
       "      <td>-1.503471</td>\n",
       "    </tr>\n",
       "    <tr>\n",
       "      <th>2</th>\n",
       "      <td>RAA 004</td>\n",
       "      <td>4427</td>\n",
       "      <td>2019-09-09</td>\n",
       "      <td>34</td>\n",
       "      <td>55</td>\n",
       "      <td>48</td>\n",
       "      <td>44</td>\n",
       "      <td>Not tempered</td>\n",
       "      <td>0</td>\n",
       "      <td>52.402565</td>\n",
       "      <td>-1.503471</td>\n",
       "    </tr>\n",
       "    <tr>\n",
       "      <th>3</th>\n",
       "      <td>RAA 005</td>\n",
       "      <td>4527</td>\n",
       "      <td>2019-09-10</td>\n",
       "      <td>56</td>\n",
       "      <td>39</td>\n",
       "      <td>69</td>\n",
       "      <td>40</td>\n",
       "      <td>Tempered</td>\n",
       "      <td>1</td>\n",
       "      <td>52.402565</td>\n",
       "      <td>-1.503471</td>\n",
       "    </tr>\n",
       "    <tr>\n",
       "      <th>4</th>\n",
       "      <td>RAA 006</td>\n",
       "      <td>4628</td>\n",
       "      <td>2019-09-11</td>\n",
       "      <td>42</td>\n",
       "      <td>53</td>\n",
       "      <td>34</td>\n",
       "      <td>68</td>\n",
       "      <td>Tempered</td>\n",
       "      <td>1</td>\n",
       "      <td>52.402565</td>\n",
       "      <td>-1.503471</td>\n",
       "    </tr>\n",
       "    <tr>\n",
       "      <th>...</th>\n",
       "      <td>...</td>\n",
       "      <td>...</td>\n",
       "      <td>...</td>\n",
       "      <td>...</td>\n",
       "      <td>...</td>\n",
       "      <td>...</td>\n",
       "      <td>...</td>\n",
       "      <td>...</td>\n",
       "      <td>...</td>\n",
       "      <td>...</td>\n",
       "      <td>...</td>\n",
       "    </tr>\n",
       "    <tr>\n",
       "      <th>994</th>\n",
       "      <td>RAA 996</td>\n",
       "      <td>103627</td>\n",
       "      <td>2022-05-28</td>\n",
       "      <td>45</td>\n",
       "      <td>69</td>\n",
       "      <td>52</td>\n",
       "      <td>41</td>\n",
       "      <td>Tempered</td>\n",
       "      <td>1</td>\n",
       "      <td>52.402565</td>\n",
       "      <td>-1.501049</td>\n",
       "    </tr>\n",
       "    <tr>\n",
       "      <th>995</th>\n",
       "      <td>RAA 997</td>\n",
       "      <td>103727</td>\n",
       "      <td>2022-05-29</td>\n",
       "      <td>43</td>\n",
       "      <td>64</td>\n",
       "      <td>57</td>\n",
       "      <td>57</td>\n",
       "      <td>Tempered</td>\n",
       "      <td>1</td>\n",
       "      <td>52.402565</td>\n",
       "      <td>-1.501049</td>\n",
       "    </tr>\n",
       "    <tr>\n",
       "      <th>996</th>\n",
       "      <td>RAA 998</td>\n",
       "      <td>103827</td>\n",
       "      <td>2022-05-30</td>\n",
       "      <td>53</td>\n",
       "      <td>51</td>\n",
       "      <td>35</td>\n",
       "      <td>38</td>\n",
       "      <td>Not tempered</td>\n",
       "      <td>0</td>\n",
       "      <td>52.402565</td>\n",
       "      <td>-1.501049</td>\n",
       "    </tr>\n",
       "    <tr>\n",
       "      <th>997</th>\n",
       "      <td>RAA 999</td>\n",
       "      <td>103927</td>\n",
       "      <td>2022-05-31</td>\n",
       "      <td>34</td>\n",
       "      <td>68</td>\n",
       "      <td>59</td>\n",
       "      <td>43</td>\n",
       "      <td>Tempered</td>\n",
       "      <td>1</td>\n",
       "      <td>52.402565</td>\n",
       "      <td>-1.501049</td>\n",
       "    </tr>\n",
       "    <tr>\n",
       "      <th>998</th>\n",
       "      <td>RAA 1000</td>\n",
       "      <td>104027</td>\n",
       "      <td>2022-06-01</td>\n",
       "      <td>41</td>\n",
       "      <td>30</td>\n",
       "      <td>43</td>\n",
       "      <td>51</td>\n",
       "      <td>Not tempered</td>\n",
       "      <td>0</td>\n",
       "      <td>53.402565</td>\n",
       "      <td>-0.501049</td>\n",
       "    </tr>\n",
       "  </tbody>\n",
       "</table>\n",
       "<p>999 rows × 11 columns</p>\n",
       "</div>"
      ],
      "text/plain": [
       "     PLATE NO   TIME SINCE START (ms)        DATE  AV SPEED(8H-9H)(km/h)  \\\n",
       "0     RAA 002                    4227  2019-09-07                     42   \n",
       "1     RAA 003                    4327  2019-09-08                     57   \n",
       "2     RAA 004                    4427  2019-09-09                     34   \n",
       "3     RAA 005                    4527  2019-09-10                     56   \n",
       "4     RAA 006                    4628  2019-09-11                     42   \n",
       "..        ...                     ...         ...                    ...   \n",
       "994   RAA 996                  103627  2022-05-28                     45   \n",
       "995   RAA 997                  103727  2022-05-29                     43   \n",
       "996   RAA 998                  103827  2022-05-30                     53   \n",
       "997   RAA 999                  103927  2022-05-31                     34   \n",
       "998  RAA 1000                  104027  2022-06-01                     41   \n",
       "\n",
       "     AV SPEED(11H-12H)(km/h)  AV SPEED(14H-15H)(km/h)  \\\n",
       "0                         54                       59   \n",
       "1                         36                       67   \n",
       "2                         55                       48   \n",
       "3                         39                       69   \n",
       "4                         53                       34   \n",
       "..                       ...                      ...   \n",
       "994                       69                       52   \n",
       "995                       64                       57   \n",
       "996                       51                       35   \n",
       "997                       68                       59   \n",
       "998                       30                       43   \n",
       "\n",
       "     AV SPEED(18H-19H)(km/h)      Feedback  Feedback value  \\\n",
       "0                         54  Not tempered               0   \n",
       "1                         61      Tempered               1   \n",
       "2                         44  Not tempered               0   \n",
       "3                         40      Tempered               1   \n",
       "4                         68      Tempered               1   \n",
       "..                       ...           ...             ...   \n",
       "994                       41      Tempered               1   \n",
       "995                       57      Tempered               1   \n",
       "996                       38  Not tempered               0   \n",
       "997                       43      Tempered               1   \n",
       "998                       51  Not tempered               0   \n",
       "\n",
       "     GPS LATITUDE (degrees)   GPS LONGITUDE (degrees)  \n",
       "0                 52.402565                 -1.503471  \n",
       "1                 52.402565                 -1.503471  \n",
       "2                 52.402565                 -1.503471  \n",
       "3                 52.402565                 -1.503471  \n",
       "4                 52.402565                 -1.503471  \n",
       "..                      ...                       ...  \n",
       "994               52.402565                 -1.501049  \n",
       "995               52.402565                 -1.501049  \n",
       "996               52.402565                 -1.501049  \n",
       "997               52.402565                 -1.501049  \n",
       "998               53.402565                 -0.501049  \n",
       "\n",
       "[999 rows x 11 columns]"
      ]
     },
     "execution_count": 3,
     "metadata": {},
     "output_type": "execute_result"
    }
   ],
   "source": [
    "data = pd.read_csv(\"Speed.csv\")\n",
    "data"
   ]
  },
  {
   "cell_type": "code",
   "execution_count": 4,
   "id": "Aev0zz_RJYbx",
   "metadata": {
    "id": "Aev0zz_RJYbx"
   },
   "outputs": [],
   "source": [
    "# encoder = LabelEncoder()\n",
    "# Plate_no = encoder.fit_transform(data['Plate no'])\n",
    "# plate_no"
   ]
  },
  {
   "cell_type": "code",
   "execution_count": 5,
   "id": "208AoX-qaPqH",
   "metadata": {
    "colab": {
     "base_uri": "https://localhost:8080/"
    },
    "id": "208AoX-qaPqH",
    "outputId": "c8ae2b99-bdd1-4df0-a89e-e15929c10bae"
   },
   "outputs": [
    {
     "data": {
      "text/plain": [
       "array([[42, 54, 59, 54],\n",
       "       [57, 36, 67, 61],\n",
       "       [34, 55, 48, 44],\n",
       "       ...,\n",
       "       [53, 51, 35, 38],\n",
       "       [34, 68, 59, 43],\n",
       "       [41, 30, 43, 51]], dtype=int64)"
      ]
     },
     "execution_count": 5,
     "metadata": {},
     "output_type": "execute_result"
    }
   ],
   "source": [
    "d = data[['AV SPEED(8H-9H)(km/h)','AV SPEED(11H-12H)(km/h)','AV SPEED(14H-15H)(km/h)','AV SPEED(18H-19H)(km/h)']].values\n",
    "y = data.iloc[:,8].values\n",
    "x = d\n",
    "x"
   ]
  },
  {
   "cell_type": "code",
   "execution_count": 6,
   "id": "hY2E_IZ-TqXq",
   "metadata": {
    "colab": {
     "base_uri": "https://localhost:8080/"
    },
    "id": "hY2E_IZ-TqXq",
    "outputId": "2c216d6d-d17e-4b94-8c66-edf15340c6aa"
   },
   "outputs": [
    {
     "data": {
      "text/plain": [
       "array([0, 1, 0, 1, 1, 0, 1, 1, 1, 0, 0, 1, 1, 1, 1, 0, 1, 0, 1, 1, 0, 1,\n",
       "       0, 1, 1, 0, 1, 1, 1, 0, 1, 1, 1, 1, 0, 1, 1, 0, 1, 1, 1, 0, 1, 1,\n",
       "       0, 1, 1, 1, 1, 1, 1, 1, 1, 1, 1, 1, 0, 1, 1, 1, 1, 0, 1, 1, 1, 1,\n",
       "       1, 1, 0, 0, 1, 0, 1, 0, 0, 0, 0, 1, 1, 0, 1, 0, 1, 1, 1, 0, 0, 1,\n",
       "       1, 0, 0, 1, 1, 1, 1, 1, 0, 1, 1, 1, 1, 1, 0, 1, 0, 1, 1, 1, 1, 0,\n",
       "       1, 1, 1, 1, 1, 0, 0, 1, 0, 0, 1, 1, 1, 1, 1, 1, 1, 1, 1, 0, 0, 1,\n",
       "       1, 1, 0, 1, 0, 0, 1, 1, 1, 1, 1, 0, 1, 0, 0, 1, 1, 1, 0, 1, 0, 0,\n",
       "       0, 1, 0, 1, 0, 0, 1, 1, 1, 1, 0, 1, 0, 0, 1, 0, 0, 1, 1, 1, 0, 0,\n",
       "       0, 1, 1, 1, 0, 1, 0, 1, 1, 1, 0, 1, 0, 1, 1, 1, 0, 1, 0, 1, 0, 1,\n",
       "       1, 1, 0, 1, 0, 1, 1, 0, 1, 0, 1, 1, 0, 0, 1, 1, 0, 1, 1, 1, 1, 1,\n",
       "       1, 1, 0, 1, 1, 0, 1, 0, 1, 0, 1, 1, 0, 0, 0, 0, 0, 0, 0, 1, 1, 0,\n",
       "       1, 1, 0, 1, 1, 0, 0, 0, 1, 0, 0, 1, 1, 0, 1, 1, 1, 1, 1, 1, 1, 0,\n",
       "       0, 1, 1, 1, 1, 1, 1, 1, 1, 1, 0, 1, 0, 0, 1, 1, 0, 0, 1, 1, 1, 1,\n",
       "       1, 0, 1, 0, 1, 0, 1, 1, 1, 1, 1, 1, 0, 0, 1, 0, 1, 1, 1, 1, 1, 0,\n",
       "       1, 1, 1, 1, 1, 1, 1, 0, 1, 0, 0, 1, 1, 1, 1, 1, 0, 1, 1, 1, 1, 1,\n",
       "       0, 1, 1, 0, 0, 1, 1, 0, 1, 1, 1, 0, 1, 1, 0, 0, 1, 0, 0, 0, 1, 0,\n",
       "       0, 1, 0, 1, 1, 1, 1, 0, 1, 0, 0, 0, 1, 1, 1, 1, 0, 0, 1, 1, 1, 1,\n",
       "       1, 0, 0, 1, 1, 1, 1, 1, 0, 1, 1, 1, 0, 1, 0, 1, 1, 1, 1, 1, 1, 0,\n",
       "       1, 0, 0, 0, 0, 1, 0, 0, 1, 0, 1, 0, 0, 0, 1, 1, 0, 1, 1, 1, 1, 1,\n",
       "       1, 1, 1, 1, 0, 1, 1, 1, 0, 1, 1, 1, 0, 0, 1, 1, 1, 0, 0, 0, 0, 1,\n",
       "       1, 1, 1, 1, 1, 1, 0, 1, 0, 1, 0, 1, 1, 0, 1, 0, 1, 0, 1, 1, 1, 0,\n",
       "       0, 1, 1, 1, 1, 1, 1, 1, 1, 1, 1, 0, 1, 0, 0, 1, 1, 1, 1, 1, 1, 1,\n",
       "       0, 1, 1, 1, 1, 0, 1, 1, 1, 0, 1, 0, 0, 0, 0, 1, 0, 1, 1, 0, 0, 0,\n",
       "       1, 1, 1, 0, 0, 1, 1, 0, 0, 0, 0, 1, 0, 0, 1, 1, 1, 1, 1, 0, 1, 1,\n",
       "       1, 0, 0, 1, 1, 1, 1, 1, 0, 1, 1, 1, 0, 0, 0, 1, 1, 1, 1, 1, 1, 1,\n",
       "       0, 1, 1, 1, 0, 0, 0, 1, 1, 1, 0, 1, 1, 1, 0, 1, 0, 0, 1, 1, 1, 0,\n",
       "       1, 1, 0, 0, 0, 0, 1, 0, 1, 1, 1, 1, 1, 1, 1, 1, 1, 1, 0, 0, 1, 1,\n",
       "       0, 0, 1, 0, 1, 1, 1, 1, 1, 1, 1, 1, 1, 1, 1, 0, 1, 1, 0, 1, 1, 1,\n",
       "       1, 0, 1, 1, 0, 0, 1, 1, 0, 0, 1, 1, 1, 1, 1, 0, 1, 0, 1, 1, 1, 1,\n",
       "       1, 0, 1, 0, 1, 1, 1, 0, 0, 0, 0, 1, 1, 0, 1, 1, 0, 1, 0, 0, 1, 0,\n",
       "       1, 0, 0, 1, 0, 1, 0, 0, 1, 0, 1, 1, 1, 0, 0, 1, 1, 1, 1, 0, 1, 0,\n",
       "       1, 0, 0, 0, 1, 1, 1, 0, 1, 1, 1, 0, 0, 1, 0, 1, 0, 0, 1, 0, 1, 1,\n",
       "       1, 1, 1, 1, 1, 0, 1, 1, 0, 1, 1, 1, 0, 1, 1, 1, 0, 0, 0, 1, 0, 1,\n",
       "       0, 1, 1, 0, 1, 1, 0, 0, 0, 1, 1, 1, 1, 1, 0, 0, 1, 1, 0, 1, 0, 1,\n",
       "       1, 0, 0, 0, 1, 1, 1, 1, 0, 1, 1, 1, 1, 1, 0, 0, 0, 0, 1, 0, 1, 1,\n",
       "       1, 0, 0, 0, 1, 0, 0, 1, 0, 1, 1, 1, 0, 1, 0, 0, 1, 1, 0, 1, 1, 1,\n",
       "       1, 1, 1, 1, 1, 1, 0, 1, 1, 1, 1, 0, 0, 0, 0, 0, 1, 1, 1, 1, 1, 1,\n",
       "       1, 1, 1, 1, 1, 1, 0, 0, 1, 1, 1, 0, 1, 1, 0, 1, 1, 1, 1, 1, 1, 0,\n",
       "       1, 0, 0, 1, 0, 1, 1, 1, 0, 1, 1, 0, 0, 1, 0, 1, 1, 0, 1, 0, 0, 0,\n",
       "       1, 0, 1, 0, 1, 1, 1, 0, 0, 1, 1, 0, 1, 1, 1, 1, 1, 0, 1, 1, 0, 0,\n",
       "       0, 0, 1, 1, 0, 0, 1, 1, 1, 1, 0, 1, 0, 0, 1, 1, 0, 1, 0, 1, 0, 1,\n",
       "       1, 1, 1, 1, 0, 0, 1, 1, 0, 0, 1, 1, 0, 0, 1, 1, 0, 0, 0, 1, 1, 1,\n",
       "       0, 1, 1, 1, 1, 0, 0, 1, 1, 1, 0, 0, 1, 1, 1, 1, 0, 0, 0, 1, 0, 1,\n",
       "       1, 1, 1, 0, 0, 1, 1, 1, 0, 1, 1, 1, 1, 1, 0, 1, 0, 0, 0, 0, 0, 1,\n",
       "       1, 1, 0, 1, 1, 1, 0, 1, 1, 1, 1, 1, 0, 1, 0, 1, 0, 1, 0, 0, 1, 0,\n",
       "       1, 1, 1, 1, 1, 1, 0, 1, 0], dtype=int64)"
      ]
     },
     "execution_count": 6,
     "metadata": {},
     "output_type": "execute_result"
    }
   ],
   "source": [
    "y"
   ]
  },
  {
   "cell_type": "code",
   "execution_count": 7,
   "id": "fa239a8c",
   "metadata": {
    "id": "fa239a8c"
   },
   "outputs": [],
   "source": [
    "x_train, x_test, y_train, y_test = train_test_split(x,y, test_size=0.25, random_state=42)"
   ]
  },
  {
   "cell_type": "code",
   "execution_count": 8,
   "id": "65026e7c",
   "metadata": {
    "id": "65026e7c"
   },
   "outputs": [],
   "source": [
    "sc = StandardScaler()\n",
    "\n",
    "x_train = sc.fit_transform(x_train)\n",
    "x_test = sc.fit_transform(x_test)"
   ]
  },
  {
   "cell_type": "code",
   "execution_count": 9,
   "id": "52d7231e",
   "metadata": {
    "colab": {
     "base_uri": "https://localhost:8080/"
    },
    "id": "52d7231e",
    "outputId": "adaeec81-7df1-4d80-d5f8-3e463e3f5cf7"
   },
   "outputs": [
    {
     "data": {
      "text/plain": [
       "LogisticRegression()"
      ]
     },
     "execution_count": 9,
     "metadata": {},
     "output_type": "execute_result"
    }
   ],
   "source": [
    "model = LogisticRegression()\n",
    "model.fit(x_train, y_train)\n"
   ]
  },
  {
   "cell_type": "code",
   "execution_count": 10,
   "id": "4e76ee95",
   "metadata": {
    "id": "4e76ee95"
   },
   "outputs": [],
   "source": [
    "y_pred = model.predict(x_test)"
   ]
  },
  {
   "cell_type": "code",
   "execution_count": 11,
   "id": "9ae0edf2",
   "metadata": {
    "id": "9ae0edf2"
   },
   "outputs": [],
   "source": [
    "accuracy = accuracy_score(y_test, y_pred)"
   ]
  },
  {
   "cell_type": "code",
   "execution_count": 12,
   "id": "CHJt1tg7cqJ5",
   "metadata": {
    "colab": {
     "base_uri": "https://localhost:8080/"
    },
    "id": "CHJt1tg7cqJ5",
    "outputId": "23de0009-a511-4cfc-9bdc-af3bb7601048"
   },
   "outputs": [
    {
     "data": {
      "text/plain": [
       "0.78"
      ]
     },
     "execution_count": 12,
     "metadata": {},
     "output_type": "execute_result"
    }
   ],
   "source": [
    "accuracy"
   ]
  },
  {
   "cell_type": "code",
   "execution_count": null,
   "id": "_pHPELUvcsSw",
   "metadata": {
    "colab": {
     "base_uri": "https://localhost:8080/",
     "height": 483
    },
    "id": "_pHPELUvcsSw",
    "outputId": "1e7255c2-702d-4c9f-a9a9-53888ad21c7b"
   },
   "outputs": [],
   "source": [
    "data.corr()"
   ]
  },
  {
   "cell_type": "code",
   "execution_count": 17,
   "id": "85XeloTuaMHd",
   "metadata": {
    "colab": {
     "base_uri": "https://localhost:8080/",
     "height": 235
    },
    "id": "85XeloTuaMHd",
    "outputId": "de3a2a5d-b867-4411-e91a-9681bd199b24"
   },
   "outputs": [],
   "source": [
    "filename=\"model.sav\"\n",
    "pickle.dump(model,open(filename,\"wb\"))"
   ]
  },
  {
   "cell_type": "code",
   "execution_count": 19,
   "id": "aJHem9qhg6ib",
   "metadata": {
    "id": "aJHem9qhg6ib"
   },
   "outputs": [],
   "source": [
    "loaded_model= pickle.load(open(\"model.sav\",\"rb\"))"
   ]
  },
  {
   "cell_type": "code",
   "execution_count": 20,
   "id": "3c833b7e",
   "metadata": {},
   "outputs": [
    {
     "data": {
      "text/plain": [
       "LogisticRegression()"
      ]
     },
     "execution_count": 20,
     "metadata": {},
     "output_type": "execute_result"
    }
   ],
   "source": [
    "loaded_model"
   ]
  },
  {
   "cell_type": "code",
   "execution_count": null,
   "id": "f913094b",
   "metadata": {},
   "outputs": [],
   "source": []
  }
 ],
 "metadata": {
  "colab": {
   "collapsed_sections": [],
   "name": "Copy of Untitled2.ipynb",
   "provenance": []
  },
  "kernelspec": {
   "display_name": "Python 3 (ipykernel)",
   "language": "python",
   "name": "python3"
  },
  "language_info": {
   "codemirror_mode": {
    "name": "ipython",
    "version": 3
   },
   "file_extension": ".py",
   "mimetype": "text/x-python",
   "name": "python",
   "nbconvert_exporter": "python",
   "pygments_lexer": "ipython3",
   "version": "3.10.0"
  }
 },
 "nbformat": 4,
 "nbformat_minor": 5
}
